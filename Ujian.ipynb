{
  "nbformat": 4,
  "nbformat_minor": 0,
  "metadata": {
    "colab": {
      "provenance": [],
      "authorship_tag": "ABX9TyMqzagz9Jp/ZpcPlvsNNIT6",
      "include_colab_link": true
    },
    "kernelspec": {
      "name": "python3",
      "display_name": "Python 3"
    },
    "language_info": {
      "name": "python"
    }
  },
  "cells": [
    {
      "cell_type": "markdown",
      "metadata": {
        "id": "view-in-github",
        "colab_type": "text"
      },
      "source": [
        "<a href=\"https://colab.research.google.com/github/Ohwdyaa/Kuiz-kecerdasan-buatan/blob/main/Ujian.ipynb\" target=\"_parent\"><img src=\"https://colab.research.google.com/assets/colab-badge.svg\" alt=\"Open In Colab\"/></a>"
      ]
    },
    {
      "cell_type": "code",
      "execution_count": 228,
      "metadata": {
        "id": "J1cEbeWKZSPo"
      },
      "outputs": [],
      "source": [
        "import numpy as np\n",
        "from sklearn import datasets\n",
        "from sklearn.datasets import load_digits\n",
        "from sklearn import svm\n",
        "from sklearn import metrics\n",
        "from sklearn import svm\n",
        "from sklearn.model_selection import train_test_split\n",
        "from sklearn.metrics import matthews_corrcoef"
      ]
    },
    {
      "cell_type": "code",
      "source": [
        "pisces = load_digits()"
      ],
      "metadata": {
        "id": "nxS_3j0AbFsf"
      },
      "execution_count": 229,
      "outputs": []
    },
    {
      "cell_type": "code",
      "source": [
        "print(pisces.data.shape)"
      ],
      "metadata": {
        "colab": {
          "base_uri": "https://localhost:8080/"
        },
        "id": "rsWlXJB9jvX5",
        "outputId": "e5154e9b-c69e-48aa-aaed-bc7a9286f226"
      },
      "execution_count": 230,
      "outputs": [
        {
          "output_type": "stream",
          "name": "stdout",
          "text": [
            "(1797, 64)\n"
          ]
        }
      ]
    },
    {
      "cell_type": "code",
      "source": [
        "print(pisces.target.shape)"
      ],
      "metadata": {
        "colab": {
          "base_uri": "https://localhost:8080/"
        },
        "id": "YLHmKpjakX4i",
        "outputId": "fd6cc5dd-8b82-49df-ea6e-a4d180b28ce1"
      },
      "execution_count": 231,
      "outputs": [
        {
          "output_type": "stream",
          "name": "stdout",
          "text": [
            "(1797,)\n"
          ]
        }
      ]
    },
    {
      "cell_type": "code",
      "source": [
        "print(pisces.target_names.shape)"
      ],
      "metadata": {
        "colab": {
          "base_uri": "https://localhost:8080/"
        },
        "id": "iITHfuSOkbMP",
        "outputId": "4f3b9822-0f7f-49cf-c76f-711e0b867321"
      },
      "execution_count": 232,
      "outputs": [
        {
          "output_type": "stream",
          "name": "stdout",
          "text": [
            "(10,)\n"
          ]
        }
      ]
    },
    {
      "cell_type": "code",
      "source": [
        "print(pisces.target_names)"
      ],
      "metadata": {
        "colab": {
          "base_uri": "https://localhost:8080/"
        },
        "id": "zZOBf9Cfkd3J",
        "outputId": "bce333f4-4241-4507-b99b-74ba3d52eb83"
      },
      "execution_count": 233,
      "outputs": [
        {
          "output_type": "stream",
          "name": "stdout",
          "text": [
            "[0 1 2 3 4 5 6 7 8 9]\n"
          ]
        }
      ]
    },
    {
      "cell_type": "code",
      "source": [
        "print(pisces.DESCR)"
      ],
      "metadata": {
        "colab": {
          "base_uri": "https://localhost:8080/"
        },
        "id": "RxqOVdAjkiIR",
        "outputId": "caf0ec05-6d4a-4f94-85eb-04cf8648fb0c"
      },
      "execution_count": 234,
      "outputs": [
        {
          "output_type": "stream",
          "name": "stdout",
          "text": [
            ".. _digits_dataset:\n",
            "\n",
            "Optical recognition of handwritten digits dataset\n",
            "--------------------------------------------------\n",
            "\n",
            "**Data Set Characteristics:**\n",
            "\n",
            "    :Number of Instances: 1797\n",
            "    :Number of Attributes: 64\n",
            "    :Attribute Information: 8x8 image of integer pixels in the range 0..16.\n",
            "    :Missing Attribute Values: None\n",
            "    :Creator: E. Alpaydin (alpaydin '@' boun.edu.tr)\n",
            "    :Date: July; 1998\n",
            "\n",
            "This is a copy of the test set of the UCI ML hand-written digits datasets\n",
            "https://archive.ics.uci.edu/ml/datasets/Optical+Recognition+of+Handwritten+Digits\n",
            "\n",
            "The data set contains images of hand-written digits: 10 classes where\n",
            "each class refers to a digit.\n",
            "\n",
            "Preprocessing programs made available by NIST were used to extract\n",
            "normalized bitmaps of handwritten digits from a preprinted form. From a\n",
            "total of 43 people, 30 contributed to the training set and different 13\n",
            "to the test set. 32x32 bitmaps are divided into nonoverlapping blocks of\n",
            "4x4 and the number of on pixels are counted in each block. This generates\n",
            "an input matrix of 8x8 where each element is an integer in the range\n",
            "0..16. This reduces dimensionality and gives invariance to small\n",
            "distortions.\n",
            "\n",
            "For info on NIST preprocessing routines, see M. D. Garris, J. L. Blue, G.\n",
            "T. Candela, D. L. Dimmick, J. Geist, P. J. Grother, S. A. Janet, and C.\n",
            "L. Wilson, NIST Form-Based Handprint Recognition System, NISTIR 5469,\n",
            "1994.\n",
            "\n",
            ".. topic:: References\n",
            "\n",
            "  - C. Kaynak (1995) Methods of Combining Multiple Classifiers and Their\n",
            "    Applications to Handwritten Digit Recognition, MSc Thesis, Institute of\n",
            "    Graduate Studies in Science and Engineering, Bogazici University.\n",
            "  - E. Alpaydin, C. Kaynak (1998) Cascading Classifiers, Kybernetika.\n",
            "  - Ken Tang and Ponnuthurai N. Suganthan and Xi Yao and A. Kai Qin.\n",
            "    Linear dimensionalityreduction using relevance weighted LDA. School of\n",
            "    Electrical and Electronic Engineering Nanyang Technological University.\n",
            "    2005.\n",
            "  - Claudio Gentile. A New Approximate Maximal Margin Classification\n",
            "    Algorithm. NIPS. 2000.\n",
            "\n"
          ]
        }
      ]
    },
    {
      "cell_type": "code",
      "source": [
        "print(pisces.data[0])"
      ],
      "metadata": {
        "colab": {
          "base_uri": "https://localhost:8080/"
        },
        "id": "p4-rspxGklaj",
        "outputId": "135f9920-442a-49eb-e125-bd0fc2315770"
      },
      "execution_count": 235,
      "outputs": [
        {
          "output_type": "stream",
          "name": "stdout",
          "text": [
            "[ 0.  0.  5. 13.  9.  1.  0.  0.  0.  0. 13. 15. 10. 15.  5.  0.  0.  3.\n",
            " 15.  2.  0. 11.  8.  0.  0.  4. 12.  0.  0.  8.  8.  0.  0.  5.  8.  0.\n",
            "  0.  9.  8.  0.  0.  4. 11.  0.  1. 12.  7.  0.  0.  2. 14.  5. 10. 12.\n",
            "  0.  0.  0.  0.  6. 13. 10.  0.  0.  0.]\n"
          ]
        }
      ]
    },
    {
      "cell_type": "code",
      "source": [
        "print(pisces.images[0])"
      ],
      "metadata": {
        "colab": {
          "base_uri": "https://localhost:8080/"
        },
        "id": "p5u3JFvikqwv",
        "outputId": "572b29cd-b598-4ed7-955f-a2c2191d217e"
      },
      "execution_count": 236,
      "outputs": [
        {
          "output_type": "stream",
          "name": "stdout",
          "text": [
            "[[ 0.  0.  5. 13.  9.  1.  0.  0.]\n",
            " [ 0.  0. 13. 15. 10. 15.  5.  0.]\n",
            " [ 0.  3. 15.  2.  0. 11.  8.  0.]\n",
            " [ 0.  4. 12.  0.  0.  8.  8.  0.]\n",
            " [ 0.  5.  8.  0.  0.  9.  8.  0.]\n",
            " [ 0.  4. 11.  0.  1. 12.  7.  0.]\n",
            " [ 0.  2. 14.  5. 10. 12.  0.  0.]\n",
            " [ 0.  0.  6. 13. 10.  0.  0.  0.]]\n"
          ]
        }
      ]
    },
    {
      "cell_type": "code",
      "source": [
        "# from sklearn.model_selection import train_test_split\n",
        "# x_train, x_test, y_train, y_test = train_test_split(pisces.data, pisces.target, test_size=0.7,\n",
        "# random_state=109)"
      ],
      "metadata": {
        "id": "9le7j9FMmKvl"
      },
      "execution_count": 237,
      "outputs": []
    },
    {
      "cell_type": "code",
      "source": [
        "import matplotlib.pyplot as plt\n",
        "plt.gray()\n",
        "plt.matshow(pisces.images[7])\n",
        "plt.show()"
      ],
      "metadata": {
        "colab": {
          "base_uri": "https://localhost:8080/",
          "height": 293
        },
        "id": "COx_TNilkxJD",
        "outputId": "b60087f7-d506-466b-f291-935cd62c7616"
      },
      "execution_count": 238,
      "outputs": [
        {
          "output_type": "display_data",
          "data": {
            "text/plain": [
              "<Figure size 432x288 with 0 Axes>"
            ]
          },
          "metadata": {}
        },
        {
          "output_type": "display_data",
          "data": {
            "text/plain": [
              "<Figure size 288x288 with 1 Axes>"
            ],
            "image/png": "[encoded data removed]"
          },
          "metadata": {
            "needs_background": "light"
          }
        }
      ]
    },
    {
      "cell_type": "code",
      "source": [
        "X_pisces, y_pisces = load_digits(return_X_y=True)"
      ],
      "metadata": {
        "id": "xpWsdH1_mkKg"
      },
      "execution_count": 239,
      "outputs": []
    },
    {
      "cell_type": "code",
      "source": [
        "print(X_pisces.shape)\n",
        "print(y_pisces.shape)"
      ],
      "metadata": {
        "colab": {
          "base_uri": "https://localhost:8080/"
        },
        "id": "63Ccorh8lQeG",
        "outputId": "a5ef97b6-9730-4c84-e316-2f6cf18219f9"
      },
      "execution_count": 240,
      "outputs": [
        {
          "output_type": "stream",
          "name": "stdout",
          "text": [
            "(1797, 64)\n",
            "(1797,)\n"
          ]
        }
      ]
    },
    {
      "cell_type": "code",
      "source": [
        "from sklearn.preprocessing import scale\n",
        "data = scale(X_pisces)"
      ],
      "metadata": {
        "id": "_tGaCxLzpFJQ"
      },
      "execution_count": 241,
      "outputs": []
    },
    {
      "cell_type": "code",
      "source": [
        "data[0:2]"
      ],
      "metadata": {
        "colab": {
          "base_uri": "https://localhost:8080/"
        },
        "id": "TTc4f-45paLh",
        "outputId": "c9ea7734-393a-45c1-84f1-c9027a69b937"
      },
      "execution_count": 242,
      "outputs": [
        {
          "output_type": "execute_result",
          "data": {
            "text/plain": [
              "array([[ 0.        , -0.33501649, -0.04308102,  0.27407152, -0.66447751,\n",
              "        -0.84412939, -0.40972392, -0.12502292, -0.05907756, -0.62400926,\n",
              "         0.4829745 ,  0.75962245, -0.05842586,  1.12772113,  0.87958306,\n",
              "        -0.13043338, -0.04462507,  0.11144272,  0.89588044, -0.86066632,\n",
              "        -1.14964846,  0.51547187,  1.90596347, -0.11422184, -0.03337973,\n",
              "         0.48648928,  0.46988512, -1.49990136, -1.61406277,  0.07639777,\n",
              "         1.54181413, -0.04723238,  0.        ,  0.76465553,  0.05263019,\n",
              "        -1.44763006, -1.73666443,  0.04361588,  1.43955804,  0.        ,\n",
              "        -0.06134367,  0.8105536 ,  0.63011714, -1.12245711, -1.06623158,\n",
              "         0.66096475,  0.81845076, -0.08874162, -0.03543326,  0.74211893,\n",
              "         1.15065212, -0.86867056,  0.11012973,  0.53761116, -0.75743581,\n",
              "        -0.20978513, -0.02359646, -0.29908135,  0.08671869,  0.20829258,\n",
              "        -0.36677122, -1.14664746, -0.5056698 , -0.19600752],\n",
              "       [ 0.        , -0.33501649, -1.09493684,  0.03864775,  0.26875116,\n",
              "        -0.13801953, -0.40972392, -0.12502292, -0.05907756, -0.62400926,\n",
              "        -1.91557297, -0.24630352,  1.19644995,  0.13619465, -0.51499146,\n",
              "        -0.13043338, -0.04462507, -0.72764628, -1.2133854 ,  1.38030848,\n",
              "         1.44186017, -0.29155283, -0.54880546, -0.11422184, -0.03337973,\n",
              "         1.44018517,  0.95451315,  1.22058589,  0.98740215, -0.94558832,\n",
              "        -0.62889588, -0.04723238,  0.        , -0.67237227, -1.05445197,\n",
              "         1.10556952,  0.96064411, -0.97870236, -0.82269451,  0.        ,\n",
              "        -0.06134367, -0.5312841 , -0.89983895,  1.36217503,  1.33078862,\n",
              "        -0.39278683, -0.79827225, -0.08874162, -0.03543326, -0.40357499,\n",
              "        -1.15311752,  1.23639392,  1.24208282, -0.45750018, -0.75743581,\n",
              "        -0.20978513, -0.02359646, -0.29908135, -1.08938309, -0.24900951,\n",
              "         0.84963214,  0.54856067, -0.5056698 , -0.19600752]])"
            ]
          },
          "metadata": {},
          "execution_count": 242
        }
      ]
    },
    {
      "cell_type": "code",
      "source": [
        "data.shape"
      ],
      "metadata": {
        "colab": {
          "base_uri": "https://localhost:8080/"
        },
        "id": "vHqfZJoTqul-",
        "outputId": "fb10fbd3-cb08-4db9-c354-713df9abbba5"
      },
      "execution_count": 243,
      "outputs": [
        {
          "output_type": "execute_result",
          "data": {
            "text/plain": [
              "(1797, 64)"
            ]
          },
          "metadata": {},
          "execution_count": 243
        }
      ]
    },
    {
      "cell_type": "code",
      "source": [
        "n_samples, n_features = data.shape\n",
        "n_pisces = len(np.unique(y_pisces))\n",
        "labels = y_pisces"
      ],
      "metadata": {
        "id": "FZ1HTPMhpvsf"
      },
      "execution_count": 244,
      "outputs": []
    },
    {
      "cell_type": "code",
      "source": [
        "pisces.target_names"
      ],
      "metadata": {
        "colab": {
          "base_uri": "https://localhost:8080/"
        },
        "id": "NreCHLfCzVSy",
        "outputId": "f110718e-cbe3-46b9-da64-27ba4da77cd7"
      },
      "execution_count": 245,
      "outputs": [
        {
          "output_type": "execute_result",
          "data": {
            "text/plain": [
              "array([0, 1, 2, 3, 4, 5, 6, 7, 8, 9])"
            ]
          },
          "metadata": {},
          "execution_count": 245
        }
      ]
    },
    {
      "cell_type": "code",
      "source": [
        "sample_size = 300"
      ],
      "metadata": {
        "id": "c7QS9hZlqG9Q"
      },
      "execution_count": 246,
      "outputs": []
    },
    {
      "cell_type": "code",
      "source": [
        "print('n_pisces', n_pisces)\n",
        "print('n_samples', n_samples)\n",
        "print('n_feature', n_features)"
      ],
      "metadata": {
        "colab": {
          "base_uri": "https://localhost:8080/"
        },
        "id": "vh7dRIskqNG3",
        "outputId": "991ea94a-a18d-4b84-a4a5-f82727545029"
      },
      "execution_count": 247,
      "outputs": [
        {
          "output_type": "stream",
          "name": "stdout",
          "text": [
            "n_pisces 10\n",
            "n_samples 1797\n",
            "n_feature 64\n"
          ]
        }
      ]
    },
    {
      "cell_type": "code",
      "source": [
        "print(labels)"
      ],
      "metadata": {
        "colab": {
          "base_uri": "https://localhost:8080/"
        },
        "id": "UgdzE4zSrmty",
        "outputId": "0c051d46-72e2-415d-cafa-494c86ea9125"
      },
      "execution_count": 248,
      "outputs": [
        {
          "output_type": "stream",
          "name": "stdout",
          "text": [
            "[0 1 2 ... 8 9 8]\n"
          ]
        }
      ]
    },
    {
      "cell_type": "code",
      "source": [
        "x_train, x_test, y_train, y_test = train_test_split(pisces.data, pisces.target, test_size=0.3,\n",
        "random_state=109)"
      ],
      "metadata": {
        "id": "8mCOQdSccWLm"
      },
      "execution_count": 249,
      "outputs": []
    },
    {
      "cell_type": "code",
      "source": [
        "clf = svm.SVC(kernel='linear')"
      ],
      "metadata": {
        "id": "kWnGtwiNdCXH"
      },
      "execution_count": 250,
      "outputs": []
    },
    {
      "cell_type": "code",
      "source": [
        "clf.fit(x_train, y_train)"
      ],
      "metadata": {
        "colab": {
          "base_uri": "https://localhost:8080/"
        },
        "id": "eMlig3_SeOow",
        "outputId": "06bfa427-d309-43bd-9e39-f6c45a27dc38"
      },
      "execution_count": 251,
      "outputs": [
        {
          "output_type": "execute_result",
          "data": {
            "text/plain": [
              "SVC(kernel='linear')"
            ]
          },
          "metadata": {},
          "execution_count": 251
        }
      ]
    },
    {
      "cell_type": "code",
      "source": [
        "y_pred = clf.predict(x_test)"
      ],
      "metadata": {
        "id": "anuMysZ6dbLt"
      },
      "execution_count": 252,
      "outputs": []
    },
    {
      "cell_type": "code",
      "source": [
        "from sklearn.metrics import classification_report\n",
        "print (classification_report(y_test, y_pred))"
      ],
      "metadata": {
        "colab": {
          "base_uri": "https://localhost:8080/"
        },
        "id": "MSSmSWga2lSA",
        "outputId": "a2691df1-ac98-4002-c7d8-50ada29c1111"
      },
      "execution_count": 253,
      "outputs": [
        {
          "output_type": "stream",
          "name": "stdout",
          "text": [
            "              precision    recall  f1-score   support\n",
            "\n",
            "           0       0.98      1.00      0.99        43\n",
            "           1       0.97      1.00      0.98        56\n",
            "           2       1.00      1.00      1.00        51\n",
            "           3       1.00      0.98      0.99        60\n",
            "           4       1.00      1.00      1.00        48\n",
            "           5       0.96      0.98      0.97        49\n",
            "           6       0.98      0.98      0.98        58\n",
            "           7       1.00      0.98      0.99        64\n",
            "           8       0.97      0.95      0.96        60\n",
            "           9       0.96      0.94      0.95        51\n",
            "\n",
            "    accuracy                           0.98       540\n",
            "   macro avg       0.98      0.98      0.98       540\n",
            "weighted avg       0.98      0.98      0.98       540\n",
            "\n"
          ]
        }
      ]
    },
    {
      "cell_type": "code",
      "source": [
        "print(\"Accuracy:\",metrics.accuracy_score(y_test,y_pred))"
      ],
      "metadata": {
        "colab": {
          "base_uri": "https://localhost:8080/"
        },
        "id": "jNq0EaB3fKUF",
        "outputId": "86eb9502-56aa-4323-9dda-b1e291255081"
      },
      "execution_count": 254,
      "outputs": [
        {
          "output_type": "stream",
          "name": "stdout",
          "text": [
            "Accuracy: 0.9814814814814815\n"
          ]
        }
      ]
    },
    {
      "cell_type": "code",
      "source": [
        "print(\"Precision:\",metrics.precision_score(y_test,y_pred, average='macro'))"
      ],
      "metadata": {
        "colab": {
          "base_uri": "https://localhost:8080/"
        },
        "id": "FwD8zL--3I_a",
        "outputId": "d4c796e4-6b9b-4043-e20b-4d53a061d39d"
      },
      "execution_count": 255,
      "outputs": [
        {
          "output_type": "stream",
          "name": "stdout",
          "text": [
            "Precision: 0.9811650284256945\n"
          ]
        }
      ]
    },
    {
      "cell_type": "code",
      "source": [
        "print(\"Recall:\",metrics.recall_score(y_test,y_pred, average='macro'))"
      ],
      "metadata": {
        "colab": {
          "base_uri": "https://localhost:8080/"
        },
        "id": "XR647zlu4Sda",
        "outputId": "736afe86-d1f1-47f9-c67c-e3442d195841"
      },
      "execution_count": 256,
      "outputs": [
        {
          "output_type": "stream",
          "name": "stdout",
          "text": [
            "Recall: 0.9821235261345918\n"
          ]
        }
      ]
    },
    {
      "cell_type": "code",
      "source": [
        "print(\"F1 score:\",metrics.f1_score(y_test,y_pred, average='macro'))"
      ],
      "metadata": {
        "colab": {
          "base_uri": "https://localhost:8080/"
        },
        "id": "0gS95Vgl4-Ok",
        "outputId": "ccfeb42a-b838-4e21-e526-35c141137090"
      },
      "execution_count": 257,
      "outputs": [
        {
          "output_type": "stream",
          "name": "stdout",
          "text": [
            "F1 score: 0.981561834355363\n"
          ]
        }
      ]
    },
    {
      "cell_type": "code",
      "source": [
        "actual = np.repeat([1, 0], repeats=[20, 380])"
      ],
      "metadata": {
        "id": "T8IdZCeD5arr"
      },
      "execution_count": 260,
      "outputs": []
    },
    {
      "cell_type": "code",
      "source": [
        "pred = np.repeat([1, 0, 1, 0], repeats=[15, 5, 5, 375])"
      ],
      "metadata": {
        "id": "avxvFs0S6cpl"
      },
      "execution_count": 263,
      "outputs": []
    },
    {
      "cell_type": "code",
      "source": [
        "matthews_corrcoef(actual, pred)"
      ],
      "metadata": {
        "colab": {
          "base_uri": "https://localhost:8080/"
        },
        "id": "x7B3FLHs6Blb",
        "outputId": "f18268a9-8cff-4afb-da21-2a416abc8acf"
      },
      "execution_count": 264,
      "outputs": [
        {
          "output_type": "execute_result",
          "data": {
            "text/plain": [
              "0.7368421052631579"
            ]
          },
          "metadata": {},
          "execution_count": 264
        }
      ]
    }
  ]
}